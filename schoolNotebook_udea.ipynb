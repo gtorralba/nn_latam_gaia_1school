{
 "cells": [
  {
   "cell_type": "markdown",
   "id": "ccb9fb77",
   "metadata": {},
   "source": [
    "# Taller de redes neuronales aplicadas a espectros estelares\n",
    "\n",
    "En este notebook se va a entrenar una red neuronal utilizando la librería sklearn. En concreto, la red neuronal es un objeto de la clase [sklearn.neural_network.MLPRegresor](https://scikit-learn.org/stable/modules/generated/sklearn.neural_network.MLPRegressor.html). Posteriormente se utilizará la red neuronal entrenada para inferir parámetros astrofísicos de un conjunto de estrellas cuyos espectros fueron medidos con [RAVE](https://www.rave-survey.org/).\n",
    "\n",
    "Para entrenar dicha red se han generado espectros sintéticos que se han guardado en el fichero *grid_school_v2_8420_8785_003899999999998727.pkl*. Dentro del fichero está guardado, además de los espectros, la temperatura efectiva, el logaritmo de la gravedad y la metalicidad que corresponde a cada espectro; todo ello en formato tabla como un objeto [pandas.DataFrame](https://pandas.pydata.org/pandas-docs/stable/reference/api/pandas.DataFrame.html). "
   ]
  },
  {
   "cell_type": "markdown",
   "id": "4cc5df73",
   "metadata": {},
   "source": [
    "Para comenzar importamos las librerías necesarias:"
   ]
  },
  {
   "cell_type": "code",
   "execution_count": null,
   "id": "49dfdc02",
   "metadata": {},
   "outputs": [],
   "source": [
    "from sklearn.neural_network import MLPRegressor\n",
    "from sklearn.model_selection import train_test_split\n",
    "from sklearn.preprocessing import MinMaxScaler\n",
    "import pandas as pd\n",
    "import matplotlib.pyplot as plt\n",
    "import numpy as np\n",
    "import pickle\n",
    "\n",
    "from warnings import simplefilter\n",
    "simplefilter(action=\"ignore\",category=FutureWarning)\n",
    "\n",
    "%matplotlib inline"
   ]
  },
  {
   "cell_type": "markdown",
   "id": "50589a23",
   "metadata": {},
   "source": [
    "Además de las librerías que se han mencionado, se han importado las funciones [train_test_split](https://scikit-learn.org/stable/modules/generated/sklearn.model_selection.train_test_split.html) y [MinMaxScaler](https://scikit-learn.org/stable/modules/generated/sklearn.preprocessing.MinMaxScaler.html) que serán de utilidad para trabajar con los datos de entrenamiento"
   ]
  },
  {
   "cell_type": "code",
   "execution_count": null,
   "id": "6d5d6f98",
   "metadata": {},
   "outputs": [],
   "source": [
    "# Código auxiliar: aunque no es necesario, se definen las longitudes de onda tanto de las simulaciones como de las observaciones\n",
    "wlen = np.arange(842,878.5,0.03899999999998727) "
   ]
  },
  {
   "cell_type": "markdown",
   "id": "6513db6f",
   "metadata": {},
   "source": [
    "## 1 Preparación de los datos\n",
    "\n"
   ]
  },
  {
   "cell_type": "markdown",
   "id": "2e03dd15",
   "metadata": {},
   "source": [
    "### 1.1 Lectura de las simulaciones\n",
    "\n",
    "Primero hay que cargar las simulaciones. Para ello hay que utilizar la función *pandas.read_pickle* que acepta como argumento el nombre del fichero a leer y devuelve un *DataFrame* (nota: para llamar a las funciones de pandas hay que usar pd en lugar de pandas, ya que en la cabecera se ha llamado a la instrucción \n",
    "```\n",
    "import pandas as pd\n",
    "```\n"
   ]
  },
  {
   "cell_type": "code",
   "execution_count": null,
   "id": "b65cee4e",
   "metadata": {},
   "outputs": [],
   "source": [
    "grid = ____ # rellenar"
   ]
  },
  {
   "cell_type": "markdown",
   "id": "d3e3938c",
   "metadata": {},
   "source": [
    "Una vez leído, la variable *grid* tiene estructura de tabla, para saber qué columnas hay almacenadas dentro se puede llamar al atributo *columns*.\n"
   ]
  },
  {
   "cell_type": "code",
   "execution_count": null,
   "id": "08d7acbc",
   "metadata": {},
   "outputs": [],
   "source": [
    "cols = ____  # rellenar\n",
    "print(____ ) #rellenar "
   ]
  },
  {
   "cell_type": "markdown",
   "id": "badcedcd",
   "metadata": {},
   "source": [
    "Si se quieren ver las primeras filas de la tabla se puede llamar al método *head()* que tiene todo *DataFrame*. El resultado debería ser igual a\n",
    "\n",
    "|  |   teff | logg |  m_h |                                          spectrum|\n",
    "|--|--------|------|------|--------------------------------------------------|\n",
    "|0 | 3000.0 |  0.0 |-3.00 | [0.9997522849383049, 0.9998009367060697, 0.999...|\n",
    "|1 | 3000.0 |  0.0 |-2.75 | [0.9997123698112049, 0.9997728740768044, 0.999...|\n",
    "|2 | 3000.0 |  0.0 |-2.50 | [0.999568427270208, 0.9996652039896338, 0.9997...|\n",
    "|3 | 3000.0 |  0.0 |-2.25 | [0.9993215807872953, 0.9994811204761738, 0.999...|\n",
    "|4 | 3000.0 |  0.0 |-2.00 | [0.9991882596346863, 0.9993762569755674, 0.999...|\n",
    "\n",
    "Por otro lado, si queremos ver una columna en concreto (por ejemplo, la columna j), se puede acceder a ella mediante \n",
    "```\n",
    "nombreDataFrame.iloc[j]\n",
    "```"
   ]
  },
  {
   "cell_type": "code",
   "execution_count": null,
   "id": "9b9b752f",
   "metadata": {},
   "outputs": [],
   "source": [
    "# Rellenar la celda para mostrar las primeras filas almacenadas en grid\n"
   ]
  },
  {
   "cell_type": "markdown",
   "id": "5caa2e45",
   "metadata": {},
   "source": [
    "### 1.2 Visualización de las simulaciones"
   ]
  },
  {
   "cell_type": "markdown",
   "id": "3b21857e",
   "metadata": {},
   "source": [
    "En la celda siguiente hay un ejemplo en el que se pinta el espectro almacenado en la primera fila del *DataFrame*."
   ]
  },
  {
   "cell_type": "code",
   "execution_count": null,
   "id": "3aa891af",
   "metadata": {},
   "outputs": [],
   "source": [
    "idx = 0\n",
    "spec = grid[\"spectrum\"].iloc[idx]\n",
    "teff = grid[\"teff\"].iloc[idx]\n",
    "logg = grid[\"logg\"].iloc[idx]\n",
    "mh = grid[\"m_h\"].iloc[idx]\n",
    "label_spec = \"Teff = {} log(g) = {} [m/H] = {}\".format(teff1,logg1,mh1) \n",
    "\n",
    "plt.figure(figsize=(16,8))\n",
    "plt.plot(wlen,spec,label=label_spec)\n",
    "plt.xlabel(r\"$\\lambda /nm$\",size=20)\n",
    "plt.ylabel(r\"Normalized flux\",size=20)\n",
    "plt.legend()"
   ]
  },
  {
   "cell_type": "markdown",
   "id": "b9fd6b75",
   "metadata": {},
   "source": [
    "En la misma figura se pueden representar varios espectros."
   ]
  },
  {
   "cell_type": "code",
   "execution_count": null,
   "id": "20b45331",
   "metadata": {},
   "outputs": [],
   "source": [
    "idx1 = ____ # elige una fila para el primer espectro\n",
    "idx2 = ____ # elige otra fila para el segundo espectro\n",
    "\n",
    "spec1 = ____ # rellenar\n",
    "teff1 = ____ # rellenar\n",
    "logg1 = ____ # rellenar\n",
    "mh1 = ____ # rellenar\n",
    "label_spec1 = ____ # rellenar\n",
    "\n",
    "# rellenar para definir las variables del segundo espectro\n",
    "    \n",
    "\n",
    "# rellenar para dibujar los dos espectros\n"
   ]
  },
  {
   "cell_type": "markdown",
   "id": "26b9c2de",
   "metadata": {},
   "source": [
    "Además, se pueden seleccionar las columnas guardadas en el *DataFrame* de *pandas* simplemente poniendo entre corchetes los nombres de las variables"
   ]
  },
  {
   "cell_type": "code",
   "execution_count": null,
   "id": "5472d80b",
   "metadata": {},
   "outputs": [],
   "source": [
    "teffs = grid[\"____\"] # rellenar para escoger la columna de las temperaturas\n",
    "loggs = grid[\"____\"] # columna de las gravedades\n",
    "mhs = grid[\"____\"] # columna de las metalicidades\n",
    "\n",
    "plt.figure(figsize=(21,8))\n",
    "plt.subplot(131)\n",
    "plt.hist(teffs,bins=100)\n",
    "plt.xlabel(r\"$T_{eff}$\")\n",
    "plt.subplot(132)\n",
    "plt.hist(loggs,bins=100)\n",
    "plt.xlabel(r\"$log(g)$\")\n",
    "plt.subplot(133)\n",
    "plt.hist(mhs,bins=100)\n",
    "plt.xlabel(r\"$[M/H]$\")"
   ]
  },
  {
   "cell_type": "markdown",
   "id": "8c149546",
   "metadata": {},
   "source": [
    "### 1.3 Preparación de las simulaciones"
   ]
  },
  {
   "cell_type": "markdown",
   "id": "1d2e1cbd",
   "metadata": {},
   "source": [
    "Una vez observados y entendidos los datos simulados con los que se puede trabajar es cuando se van a preparar para poder usarlos en el entrenamiento de la red neuronal.\n",
    "\n",
    "La red es lo que se llama un perceptrón totalmente conectado y queremos entrenarlo para que lea un espectro y como resultado nos diga qué parámetros astrofísicos (temperatura efectiva, logaritmo de la gravedad y metalicidad) tiene la estrella que produce dicho espectro. Por tanto, los valores de entrada de la red serán los valores del espectro para las distintas longitudes de onda y los valores de salida serán tres: temperatura, gravedad y metalicidad."
   ]
  },
  {
   "cell_type": "code",
   "execution_count": null,
   "id": "9d63da70",
   "metadata": {},
   "outputs": [],
   "source": []
  },
  {
   "cell_type": "code",
   "execution_count": null,
   "id": "4fa7d6b9",
   "metadata": {},
   "outputs": [],
   "source": [
    "y = grid[[\"teff\",\"logg\",\"m_h\"]].values\n",
    "x = grid[\"\"].values # rellenar \n",
    "x = np.array([xx.astype(float) for xx in x]) # este paso es necesario debido a la implementación de sklearn"
   ]
  },
  {
   "cell_type": "markdown",
   "id": "93544de2",
   "metadata": {},
   "source": [
    "A la hora de ayudar al programa de minimización a encontrar el mínimo es útil escalar las variables de manera que el rango entre ellas sea aproximadamente igual. Para esto vamos a utilizar el objeto [MinMaxScaler](https://scikit-learn.org/stable/modules/generated/sklearn.preprocessing.MinMaxScaler.html) de la librería *sklearn*"
   ]
  },
  {
   "cell_type": "code",
   "execution_count": null,
   "id": "557331d5",
   "metadata": {},
   "outputs": [],
   "source": [
    "scaler = MinMaxScaler()\n",
    "ys = scaler.fit_transform(____) # rellenar con la variable que se quiere escalar"
   ]
  },
  {
   "cell_type": "markdown",
   "id": "15be8d23",
   "metadata": {},
   "source": [
    "Una vez preprocesados los datos sintéticos hay que decidir qué datos se utilizarán para entrenar y cuáles de ellos (el resto) para comprobar. Ésto se logra fácilmente con la función *train_test_split* que recibe como primer y segundo argumentos dos *arrays* que va a separar en dos conjuntos cada uno de ellos, el conjunto de entrenamiento (*train*) y el conjunto de comprobación (*test*). Además, admite otro argumento mediante la [clave](https://docs.python.org/3/glossary.html#term-argument) *test_size* cuyo valor va de 0 a 1 y que define qué porcentaje de elementos de los arrays se utilizarán para entrenar y qué porcentaje se utilizarán para comprobar. Los valores típicos suelen ser 0.1, 0.15 y 0.2.\n"
   ]
  },
  {
   "cell_type": "code",
   "execution_count": null,
   "id": "8d2596fc",
   "metadata": {},
   "outputs": [],
   "source": [
    "xtrain,xtest,ytrain,ytest = train_test_split(____,____,test_size=____) # rellenar"
   ]
  },
  {
   "cell_type": "code",
   "execution_count": null,
   "id": "8bca0bc8",
   "metadata": {},
   "outputs": [],
   "source": [
    "# rellenar la celda para mostrar tres gráficas con las variables de entrada que se usarán para entrenar\n",
    "# nota: en una celda anterior se mostraron gráficas con los parámetros astrofísicos de entrad, ésta puede ser de ayuda\n"
   ]
  },
  {
   "cell_type": "markdown",
   "id": "b93ef319",
   "metadata": {},
   "source": [
    "A la vista de los gráficos anteriores, ¿se distribuyen los datos de entrenamiento como queremos?"
   ]
  },
  {
   "cell_type": "code",
   "execution_count": null,
   "id": "003aaac7",
   "metadata": {},
   "outputs": [],
   "source": []
  },
  {
   "cell_type": "code",
   "execution_count": null,
   "id": "379d2fe3",
   "metadata": {},
   "outputs": [],
   "source": []
  },
  {
   "cell_type": "markdown",
   "id": "cbdf2573",
   "metadata": {},
   "source": [
    "## 2 Construcción de la red"
   ]
  },
  {
   "cell_type": "markdown",
   "id": "edbe8bab",
   "metadata": {},
   "source": [
    "La definición de la red se hace a través de parámetros e hiperparámetros. Algunos de ellos hacen referencia a la arquitectura de la propia red mientras que otros definen la estrategia a seguir para la optimización de los parámetros de la red."
   ]
  },
  {
   "cell_type": "markdown",
   "id": "0606c7dd",
   "metadata": {},
   "source": [
    "### 2.1 Parámetros de la red\n",
    "\n",
    "Los parámtros que definen la red son las funciones de activación así como el número de capas \n",
    "ocultas y de neuronas por capa.\n",
    "\n",
    "Cuando se trabaja con *MLPRegressor* esto se hace con los argumentos *activation* y *hidden_layer_sizes*.\n",
    "\n",
    "- activation: función de activación de las neuronas. Admite un sólo valor entre \"logistic\", \"linear\", \"tanh\" y \"relu\" \n",
    "- hidden_layer_sizes: define el número de capas ocultas y el número de neuronas que hay en cada capa. El argumento es una tupla cuya longitud denota el número de capas oculatas y cuyos valores marcan el número de neuronas en las capas. Así, por ejemplo, una neurona con 2 capas ocultas y tres neuronas en cada capa vendría definida por\n",
    "``` \n",
    "hidden_layer_sizes=(3,3)\n",
    "```"
   ]
  },
  {
   "cell_type": "code",
   "execution_count": null,
   "id": "11f0e8a3",
   "metadata": {},
   "outputs": [],
   "source": [
    "activation = ____ # elegir una función de activación\n",
    "hidden_layer_sizes = ____ # elegir el número de capas ocultas así como las neuronas en cada capa\n",
    "alpha = ____ # término de regularización"
   ]
  },
  {
   "cell_type": "markdown",
   "id": "34c5eb39",
   "metadata": {},
   "source": [
    "### 2.2 Parámetros para el optimizador\n",
    "\n",
    "Una vez definida la red quedan por definir tanto el optimizador como los parámetros que se \n",
    "pasarán a éste.\n",
    "\n",
    "El primero de ellos es el optimizador que se va a utilizar (\"lbfgs\", \"sgd\" o \"adam\"), mientras que los otros dos hacen referencia al desplazamiento de la solución que se obtiene tras cada iteración. Estos argumentos vienen especificados por *learning_rate_init* y por *learning_rate* que hacen referencia al valor del módulo del desplazamiento y los cambios que se le pueden aplicar respectivamente. Así, un valor de *learning_rate* igual a *\"constant\"* mantendrá el módulo del paso constante, mientras que *\"adaptive\"* lo irá variando en función de la solución actual en cada iteración."
   ]
  },
  {
   "cell_type": "code",
   "execution_count": null,
   "id": "f3408ec1",
   "metadata": {},
   "outputs": [],
   "source": [
    "solver = ____ # elige un optimizador\n",
    "learning_rate_init = ____ # elige un paso\n",
    "learning_rate = ____ # elegir la estrategia a seguir con el paso"
   ]
  },
  {
   "cell_type": "markdown",
   "id": "47562dde",
   "metadata": {},
   "source": [
    "El siguiente conjunto de parámetros hace referencia a las iteraciones del optimizador en el proceso de minimización. Éstos son:\n",
    "- número máximo de iteraciones del optimizador: el optimizador realizará iteraciones hasta que converja o se alcance *max_iter*.\n",
    "- *tol*: define lo que se entiende por convergencia\n",
    "- *n_iter_no_change*: número máximo de iteraciones para que la función de pérdida disminuya\n"
   ]
  },
  {
   "cell_type": "code",
   "execution_count": null,
   "id": "1b1ff3c6",
   "metadata": {},
   "outputs": [],
   "source": [
    "max_iter = ____ # número máximo de iteraciones\n",
    "tol = ____ # tolerancia\n",
    "n_iter_no_change = ____ # númer máximo de épocas permitidas para que la función de pérdida disminuya"
   ]
  },
  {
   "cell_type": "markdown",
   "id": "eaac1c4a",
   "metadata": {},
   "source": [
    "Finalmente, queda por difinir el conjunto de validación. Este conjunto se puede definir a mano y no especificar el siguiente conjunto de parámetros, sin embargo, el objeto *MLPRegressor* nos permite hacer el proceso de creación del conjunto de validación simplemente especificando un parámetro"
   ]
  },
  {
   "cell_type": "code",
   "execution_count": null,
   "id": "4dbf426b",
   "metadata": {},
   "outputs": [],
   "source": [
    "validation_fraction = ____ # fracción de elementos de entrada que se usarán para formar el conjunto de validación\n",
    "early_stopping=True"
   ]
  },
  {
   "cell_type": "markdown",
   "id": "b3d43e3c",
   "metadata": {},
   "source": [
    "### 2.3 Definición de la red"
   ]
  },
  {
   "cell_type": "code",
   "execution_count": null,
   "id": "d7c8a936",
   "metadata": {},
   "outputs": [],
   "source": [
    "net = MLPRegressor(\n",
    "    activation=activation,\n",
    "    hidden_layer_sizes=hidden_layer_sizes,\n",
    "    solver=solver,\n",
    "    learning_rate_init=learning_rate_init,\n",
    "    learning_rate=learning_rate,\n",
    "    max_iter=max_iter,\n",
    "    tol=tol,\n",
    "    n_iter_no_change=n_iter_no_change,\n",
    "    validation_fraction=validation_fraction,\n",
    "    verbose=True,\n",
    "    early_stopping=early_stopping)"
   ]
  },
  {
   "cell_type": "markdown",
   "id": "c370c5c9",
   "metadata": {},
   "source": [
    "## 3 Entrenamiento\n",
    "\n",
    "Una vez definidos los conjuntos de entrenamiento y los parámetros de la red, el entrenamiento se hace a través del método *fit()* que recibe como primer argumento el conjunto de datos de entrada para el entrenamiento y como segundo el conjunto de datos de salida con los que debe contrastar la propia salida de la red. El proceso de ajuste de la red neuronal consiste, precisamente, en comparar las salidas de la red con el conjunto de entrada y minimizar el error cuadrático medio"
   ]
  },
  {
   "cell_type": "code",
   "execution_count": null,
   "id": "1392b421",
   "metadata": {},
   "outputs": [],
   "source": [
    "# rellenar esta celda con la llamada a la función fit para entrenar la red\n"
   ]
  },
  {
   "cell_type": "markdown",
   "id": "8bc730d2",
   "metadata": {},
   "source": [
    "## 4 Mostrar y guardar los resultados"
   ]
  },
  {
   "cell_type": "markdown",
   "id": "0031c110",
   "metadata": {},
   "source": [
    "Cuando el entrenamiento a terminado los parámetros (b,w) - bias, weight - de la red se han ajustado de manera que ajustan la salida de la red al conjunto de datos *ytrain*. Estos valores se pueden llamar mediante los atributos *intercepts_* y *coefs_*"
   ]
  },
  {
   "cell_type": "code",
   "execution_count": null,
   "id": "0c1f1419",
   "metadata": {},
   "outputs": [],
   "source": [
    "# Mostrar por pantalla los parámetros b y w de la red nuronal\n"
   ]
  },
  {
   "cell_type": "markdown",
   "id": "ef68c6aa",
   "metadata": {},
   "source": [
    "Para guardar la red neuronal ya entrenada vamos a utilizar la librería *pickle* de Python. Los comandos a ejecutar son:\n",
    "```\n",
    "output_file_name = \"nombre de salida del fichero a guardar\"\n",
    "pickle.dump(nombre_de_la_red,open(output_file_name,\"wb\"))\n",
    "```"
   ]
  },
  {
   "cell_type": "code",
   "execution_count": null,
   "id": "19244be0",
   "metadata": {},
   "outputs": [],
   "source": [
    "# Rellenar la celda con el código necesario para guardar la red\n",
    "\n",
    "\n"
   ]
  },
  {
   "cell_type": "markdown",
   "id": "5ef0107f",
   "metadata": {},
   "source": [
    "El valor de pérdida (el error cuadrático entre la salida de la red y los valores ytrain) de la red se puede obtener llamando al atributo *loss_* mientras que los valores para cada iteración se obtienen con el atributo *loss_curve_*"
   ]
  },
  {
   "cell_type": "code",
   "execution_count": null,
   "id": "1b78176a",
   "metadata": {},
   "outputs": [],
   "source": [
    "# Muestra por pantalla el valor actual de pérdida y dibuja en una gráfica la curva de pérdida\n"
   ]
  },
  {
   "cell_type": "code",
   "execution_count": null,
   "id": "61309960",
   "metadata": {},
   "outputs": [],
   "source": [
    "# Mustra por pantalla el score para el conjunto de entrenamiento. \n",
    "#¿Cómo compara con el valor mostrado en el entrenamiento con el del conjunto de validación?\n"
   ]
  },
  {
   "cell_type": "markdown",
   "id": "b6d64e78",
   "metadata": {},
   "source": []
  },
  {
   "cell_type": "code",
   "execution_count": null,
   "id": "34e84204",
   "metadata": {},
   "outputs": [],
   "source": []
  },
  {
   "cell_type": "markdown",
   "id": "82e67217",
   "metadata": {},
   "source": [
    "## 5 Estudio de las incertidumbres"
   ]
  },
  {
   "cell_type": "markdown",
   "id": "421de30a",
   "metadata": {},
   "source": [
    "Una vez entrenada la red se utiliza el conjunto *test* para comprobar los resultados y caracterizar las incertidumbres. Dado un conjunto de espectros de entrada, la red asignará a cada espectro un valor de salida que corresponde con una temperatura, una gravedad y una metalicidad. Para obtener estos valores se utiliza el método *predict()* de la red neuronal.\n",
    "\n",
    "Hay que recordar que la red fue entrenada con los objetivos (valores de salida) escalados y hay que desescalarlos."
   ]
  },
  {
   "cell_type": "code",
   "execution_count": null,
   "id": "caa77c07",
   "metadata": {},
   "outputs": [],
   "source": [
    "# Obtener los parámetros estelares que la red entrenada asocia a los espectros del conjunto test\n",
    "# Recordar que los valores de los parámetros con los que se entrenó la red han sido escalados.\n",
    "\n",
    "test_predictions = scaler.inverse_transform(nn.____(_____)) # rellenar los huecos con los valores para obtener las predicciones de la red asociadas a los espectros del conjunto test\n",
    "test_values = # rellenar para obtener los valores de los parámetros reales del conjunto test\n",
    "\n",
    "print(___) # rellenar para mostrar los valores de las predicciones"
   ]
  },
  {
   "cell_type": "markdown",
   "id": "b9b6d7ca",
   "metadata": {},
   "source": [
    "El error medio o *bias* para cada variable viene dado por el valor medio de la distribución *valores_de_la_red* - *valores_reales*. Para obtener estas distribuciones tenemos que acceder a los elementos de *test_predictions* y *test_values* que corresponden a cada parámetro astrofísico. Éstos están guardados en el orden en que los definimos (temperatura, gravedad, metalicidad).\n",
    "\n",
    "Dado un *array* de *arrays*, si se quiere acceder al primer elemento de cada uno de los *arrays* se puede utilizar la siguiente nomenclatura:\n",
    "```\n",
    "primer_valor_cada_array = array_de_array[:,0]\n",
    "```\n",
    "Cambiando el índice se puede obtener todos los segundos, los terceros, etc."
   ]
  },
  {
   "cell_type": "code",
   "execution_count": null,
   "id": "ba2bb1f1",
   "metadata": {},
   "outputs": [],
   "source": [
    "# Construir las distribuciones de predicciones menos valores reales\n",
    "delta_teff = test_predictions[____] - test_values[___] # rellenar los huecos\n",
    "delta_logg = ___ # rellenar\n",
    "delta_mh = _____ # rellenar"
   ]
  },
  {
   "cell_type": "code",
   "execution_count": null,
   "id": "6deb86d3",
   "metadata": {},
   "outputs": [],
   "source": [
    "# Ilustrar en un gráfico las distribuciones de diferencias (deltas). Para ello pintar un histograma usando plt.hist(). \n",
    "\n"
   ]
  },
  {
   "cell_type": "code",
   "execution_count": null,
   "id": "305ac77d",
   "metadata": {},
   "outputs": [],
   "source": [
    "# en esta celda vamos a obtener los biases y las uncertidumbres.\n",
    "# para obtenerlas hay que utilizar los métodos mean() y std() \n",
    "bias_teff = _____\n",
    "bias_logg = _____\n",
    "bias_mh = _____\n",
    "uncert_teff = ____\n",
    "uncert_logg = ____\n",
    "uncert_mh = ____"
   ]
  },
  {
   "cell_type": "code",
   "execution_count": null,
   "id": "f7f41198",
   "metadata": {},
   "outputs": [],
   "source": [
    "# mostrar los resultados de bias y uncert para cada variable\n"
   ]
  },
  {
   "cell_type": "markdown",
   "id": "0817c6fd",
   "metadata": {},
   "source": [
    "## 6 Nota final para el entrenamiento"
   ]
  },
  {
   "cell_type": "markdown",
   "id": "8ca9e07b",
   "metadata": {},
   "source": [
    "Normalmente hay que realizar un estudio detallado para encontrar la configuración óptima de la red a través de los posibles valores de parámetros e hiperparámetros. La configuración óptima dependerá del tipo de problema que se quiere resolver, los datos de entrenamiento...; por ello es bueno cambiar la arquitectura y los valores de los parámetros y entrenar con los mismos datos.\n",
    "\n",
    "Utiliza las celdas de debajo (tantas como necesites) para construir nuevas redes y comparar los resultados que dan cada una de ellas"
   ]
  },
  {
   "cell_type": "code",
   "execution_count": null,
   "id": "72a208b5",
   "metadata": {},
   "outputs": [],
   "source": []
  },
  {
   "cell_type": "code",
   "execution_count": null,
   "id": "5530690b",
   "metadata": {},
   "outputs": [],
   "source": []
  },
  {
   "cell_type": "code",
   "execution_count": null,
   "id": "bb45a418",
   "metadata": {},
   "outputs": [],
   "source": []
  },
  {
   "cell_type": "code",
   "execution_count": null,
   "id": "763934b1",
   "metadata": {},
   "outputs": [],
   "source": []
  },
  {
   "cell_type": "markdown",
   "id": "12480717-cac3-47de-aae4-c8ba11e1709b",
   "metadata": {},
   "source": [
    "## 7 Aplicación a espectros reales (medidos por RAVE)"
   ]
  },
  {
   "cell_type": "markdown",
   "id": "690eecdd-e65d-4e32-a5f4-5d53bef3273a",
   "metadata": {},
   "source": [
    "Ahora se va a aplicar la red neuronal entrenada a datos reales. \n",
    "El fichero *data_spectra_input_school_v2_8420_8785_003899999999998727.pkl* contiene espectros medidos por el experimento [RAVE](https://www.rave-survey.org/) y, a partir de ellos, la red neuronal va a asignar a cada espectro una temperatura effectiva, un logaritmo de la gravedad y una metalicidad. Posteriormente, se mostrará en un gráfico las gravedades frente a las temperaturas. Así, el esquema de este análisis es:\n",
    "- Lectura de datos: entender las diferencias entre los datos y las simulaciones\n",
    "- Determinación de los parámetros astrofísicos\n",
    "- Dibujar el diagrama de logg vs Teff (¿es, en tu caso, necesaria una corrección?)"
   ]
  },
  {
   "cell_type": "markdown",
   "id": "85dc1733-edf9-4e3a-8604-f61d038c1eb1",
   "metadata": {},
   "source": [
    "### 7.1 Lectura de datos"
   ]
  },
  {
   "cell_type": "code",
   "execution_count": null,
   "id": "26e5233c-7aba-498b-82d5-462dd50bdc87",
   "metadata": {},
   "outputs": [],
   "source": [
    "# rellenar el hueco para leer el fichero de datos\n",
    "data = ____"
   ]
  },
  {
   "cell_type": "code",
   "execution_count": null,
   "id": "831279d4-e714-47e0-bdcf-d13c4e9719e6",
   "metadata": {},
   "outputs": [],
   "source": [
    "# pintar algunos espectros\n",
    "idx = ___ \n",
    "plt.figure(figsize=(13,8))\n",
    "plt.plot(____,____)\n",
    "plt.xlabel(r\"$\\lambda /nm$\")\n",
    "plt.ylabel(r\"$Normalized flux$\")"
   ]
  },
  {
   "cell_type": "markdown",
   "id": "1c5361aa-ca54-4c02-b3a5-016a26af24e0",
   "metadata": {},
   "source": [
    "### 7.2 Inferencia: determinación de parámetros astrofísicos"
   ]
  },
  {
   "cell_type": "code",
   "execution_count": null,
   "id": "59aebfd2-1ea5-414e-a121-ebd504e1aa4e",
   "metadata": {},
   "outputs": [],
   "source": [
    "data_specs = _____.______.tolist() # obtener los valores de los espctros. Nota: se convierte a una lista porque MLPRegressor.predict recibe como argumento una lista\n",
    "data_preds = _____ # aplicar la red neuronal"
   ]
  },
  {
   "cell_type": "code",
   "execution_count": null,
   "id": "0334237a-75c7-4a33-a079-2653eb82dd2a",
   "metadata": {},
   "outputs": [],
   "source": [
    "# Utiliza esta celda (y tantas como necesites) para explorar los resultados\n"
   ]
  },
  {
   "cell_type": "markdown",
   "id": "99d90248-44ed-4bcf-af35-c60eb86bb3b4",
   "metadata": {},
   "source": [
    "### 7.3 Diagrama de inferencias"
   ]
  },
  {
   "cell_type": "code",
   "execution_count": null,
   "id": "9328caeb-accd-41e8-abb2-ffd3e97e2f75",
   "metadata": {},
   "outputs": [],
   "source": [
    "# rellenar para dibujar el diagrama.\n",
    "# Nota: el diagrama que se quiere dibujar debe tener los ejes invertidos. Si se quiere dibujar el eje X invertido hay que llamar a la instrucción plt.gca().invert_xaxis()\n",
    "\n",
    "\n",
    "\n",
    "\n"
   ]
  }
 ],
 "metadata": {
  "kernelspec": {
   "display_name": "Python 3 (ipykernel)",
   "language": "python",
   "name": "python3"
  },
  "language_info": {
   "codemirror_mode": {
    "name": "ipython",
    "version": 3
   },
   "file_extension": ".py",
   "mimetype": "text/x-python",
   "name": "python",
   "nbconvert_exporter": "python",
   "pygments_lexer": "ipython3",
   "version": "3.9.7"
  }
 },
 "nbformat": 4,
 "nbformat_minor": 5
}
